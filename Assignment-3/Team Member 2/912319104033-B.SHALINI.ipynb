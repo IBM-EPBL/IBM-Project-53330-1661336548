{
 "cells": [
  {
   "cell_type": "markdown",
   "metadata": {
    "id": "GBXL2hjqs_XK"
   },
   "source": [
    "**1. The given dataset is downloaded as \"Flowers-Dataset\"**"
   ]
  },
  {
   "cell_type": "markdown",
   "metadata": {
    "id": "nooMsj5bVjge"
   },
   "source": [
    "# **2. Image Augmentation**\n",
    "\n",
    "It is a technique used to increase the image with some modification. To overcome overfitting we are using augmentation."
   ]
  },
  {
   "cell_type": "code",
   "execution_count": 1,
   "metadata": {
    "id": "CloXgRmFs_XQ",
    "outputId": "33566328-67a0-4169-e1d8-f63d633a66ed"
   },
   "outputs": [
    {
     "name": "stdout",
     "output_type": "stream",
     "text": [
      "Requirement already satisfied: tensorflow in c:\\users\\dineshraja\\anaconda3\\lib\\site-packages (2.10.0)\n",
      "Requirement already satisfied: keras<2.11,>=2.10.0 in c:\\users\\dineshraja\\anaconda3\\lib\\site-packages (from tensorflow) (2.10.0)\n",
      "Requirement already satisfied: packaging in c:\\users\\dineshraja\\anaconda3\\lib\\site-packages (from tensorflow) (20.9)\n",
      "Requirement already satisfied: protobuf<3.20,>=3.9.2 in c:\\users\\dineshraja\\anaconda3\\lib\\site-packages (from tensorflow) (3.19.6)\n",
      "Requirement already satisfied: grpcio<2.0,>=1.24.3 in c:\\users\\dineshraja\\anaconda3\\lib\\site-packages (from tensorflow) (1.49.1)\n",
      "Requirement already satisfied: libclang>=13.0.0 in c:\\users\\dineshraja\\anaconda3\\lib\\site-packages (from tensorflow) (14.0.6)\n",
      "Requirement already satisfied: wrapt>=1.11.0 in c:\\users\\dineshraja\\anaconda3\\lib\\site-packages (from tensorflow) (1.12.1)\n",
      "Requirement already satisfied: h5py>=2.9.0 in c:\\users\\dineshraja\\anaconda3\\lib\\site-packages (from tensorflow) (2.10.0)\n",
      "Requirement already satisfied: flatbuffers>=2.0 in c:\\users\\dineshraja\\anaconda3\\lib\\site-packages (from tensorflow) (22.9.24)\n",
      "Requirement already satisfied: numpy>=1.20 in c:\\users\\dineshraja\\anaconda3\\lib\\site-packages (from tensorflow) (1.20.1)\n",
      "Requirement already satisfied: opt-einsum>=2.3.2 in c:\\users\\dineshraja\\anaconda3\\lib\\site-packages (from tensorflow) (3.3.0)\n",
      "Requirement already satisfied: termcolor>=1.1.0 in c:\\users\\dineshraja\\anaconda3\\lib\\site-packages (from tensorflow) (2.0.1)\n",
      "Requirement already satisfied: google-pasta>=0.1.1 in c:\\users\\dineshraja\\anaconda3\\lib\\site-packages (from tensorflow) (0.2.0)\n",
      "Requirement already satisfied: setuptools in c:\\users\\dineshraja\\anaconda3\\lib\\site-packages (from tensorflow) (52.0.0.post20210125)\n",
      "Requirement already satisfied: absl-py>=1.0.0 in c:\\users\\dineshraja\\anaconda3\\lib\\site-packages (from tensorflow) (1.2.0)\n",
      "Requirement already satisfied: tensorflow-io-gcs-filesystem>=0.23.1 in c:\\users\\dineshraja\\anaconda3\\lib\\site-packages (from tensorflow) (0.27.0)\n",
      "Requirement already satisfied: typing-extensions>=3.6.6 in c:\\users\\dineshraja\\anaconda3\\lib\\site-packages (from tensorflow) (3.7.4.3)\n",
      "Requirement already satisfied: six>=1.12.0 in c:\\users\\dineshraja\\anaconda3\\lib\\site-packages (from tensorflow) (1.15.0)\n",
      "Requirement already satisfied: tensorflow-estimator<2.11,>=2.10.0 in c:\\users\\dineshraja\\anaconda3\\lib\\site-packages (from tensorflow) (2.10.0)\n",
      "Requirement already satisfied: gast<=0.4.0,>=0.2.1 in c:\\users\\dineshraja\\anaconda3\\lib\\site-packages (from tensorflow) (0.4.0)\n",
      "Requirement already satisfied: tensorboard<2.11,>=2.10 in c:\\users\\dineshraja\\anaconda3\\lib\\site-packages (from tensorflow) (2.10.1)\n",
      "Requirement already satisfied: keras-preprocessing>=1.1.1 in c:\\users\\dineshraja\\anaconda3\\lib\\site-packages (from tensorflow) (1.1.2)\n",
      "Requirement already satisfied: astunparse>=1.6.0 in c:\\users\\dineshraja\\anaconda3\\lib\\site-packages (from tensorflow) (1.6.3)\n",
      "Requirement already satisfied: wheel<1.0,>=0.23.0 in c:\\users\\dineshraja\\anaconda3\\lib\\site-packages (from astunparse>=1.6.0->tensorflow) (0.36.2)\n",
      "Requirement already satisfied: requests<3,>=2.21.0 in c:\\users\\dineshraja\\anaconda3\\lib\\site-packages (from tensorboard<2.11,>=2.10->tensorflow) (2.25.1)\n",
      "Requirement already satisfied: markdown>=2.6.8 in c:\\users\\dineshraja\\anaconda3\\lib\\site-packages (from tensorboard<2.11,>=2.10->tensorflow) (3.4.1)\n",
      "Requirement already satisfied: werkzeug>=1.0.1 in c:\\users\\dineshraja\\anaconda3\\lib\\site-packages (from tensorboard<2.11,>=2.10->tensorflow) (1.0.1)\n",
      "Requirement already satisfied: tensorboard-plugin-wit>=1.6.0 in c:\\users\\dineshraja\\anaconda3\\lib\\site-packages (from tensorboard<2.11,>=2.10->tensorflow) (1.8.1)\n",
      "Requirement already satisfied: google-auth-oauthlib<0.5,>=0.4.1 in c:\\users\\dineshraja\\anaconda3\\lib\\site-packages (from tensorboard<2.11,>=2.10->tensorflow) (0.4.6)\n",
      "Requirement already satisfied: tensorboard-data-server<0.7.0,>=0.6.0 in c:\\users\\dineshraja\\anaconda3\\lib\\site-packages (from tensorboard<2.11,>=2.10->tensorflow) (0.6.1)\n",
      "Requirement already satisfied: google-auth<3,>=1.6.3 in c:\\users\\dineshraja\\anaconda3\\lib\\site-packages (from tensorboard<2.11,>=2.10->tensorflow) (2.12.0)\n",
      "Requirement already satisfied: cachetools<6.0,>=2.0.0 in c:\\users\\dineshraja\\anaconda3\\lib\\site-packages (from google-auth<3,>=1.6.3->tensorboard<2.11,>=2.10->tensorflow) (5.2.0)\n",
      "Requirement already satisfied: pyasn1-modules>=0.2.1 in c:\\users\\dineshraja\\anaconda3\\lib\\site-packages (from google-auth<3,>=1.6.3->tensorboard<2.11,>=2.10->tensorflow) (0.2.8)\n",
      "Requirement already satisfied: rsa<5,>=3.1.4 in c:\\users\\dineshraja\\anaconda3\\lib\\site-packages (from google-auth<3,>=1.6.3->tensorboard<2.11,>=2.10->tensorflow) (4.9)\n",
      "Requirement already satisfied: requests-oauthlib>=0.7.0 in c:\\users\\dineshraja\\anaconda3\\lib\\site-packages (from google-auth-oauthlib<0.5,>=0.4.1->tensorboard<2.11,>=2.10->tensorflow) (1.3.1)\n",
      "Requirement already satisfied: importlib-metadata>=4.4 in c:\\users\\dineshraja\\anaconda3\\lib\\site-packages (from markdown>=2.6.8->tensorboard<2.11,>=2.10->tensorflow) (4.12.0)\n",
      "Requirement already satisfied: zipp>=0.5 in c:\\users\\dineshraja\\anaconda3\\lib\\site-packages (from importlib-metadata>=4.4->markdown>=2.6.8->tensorboard<2.11,>=2.10->tensorflow) (3.4.1)\n",
      "Requirement already satisfied: pyasn1<0.5.0,>=0.4.6 in c:\\users\\dineshraja\\anaconda3\\lib\\site-packages (from pyasn1-modules>=0.2.1->google-auth<3,>=1.6.3->tensorboard<2.11,>=2.10->tensorflow) (0.4.8)\n",
      "Requirement already satisfied: chardet<5,>=3.0.2 in c:\\users\\dineshraja\\anaconda3\\lib\\site-packages (from requests<3,>=2.21.0->tensorboard<2.11,>=2.10->tensorflow) (4.0.0)\n",
      "Requirement already satisfied: idna<3,>=2.5 in c:\\users\\dineshraja\\anaconda3\\lib\\site-packages (from requests<3,>=2.21.0->tensorboard<2.11,>=2.10->tensorflow) (2.10)\n",
      "Requirement already satisfied: certifi>=2017.4.17 in c:\\users\\dineshraja\\anaconda3\\lib\\site-packages (from requests<3,>=2.21.0->tensorboard<2.11,>=2.10->tensorflow) (2020.12.5)\n",
      "Requirement already satisfied: urllib3<1.27,>=1.21.1 in c:\\users\\dineshraja\\anaconda3\\lib\\site-packages (from requests<3,>=2.21.0->tensorboard<2.11,>=2.10->tensorflow) (1.26.4)\n",
      "Requirement already satisfied: oauthlib>=3.0.0 in c:\\users\\dineshraja\\anaconda3\\lib\\site-packages (from requests-oauthlib>=0.7.0->google-auth-oauthlib<0.5,>=0.4.1->tensorboard<2.11,>=2.10->tensorflow) (3.2.1)\n",
      "Requirement already satisfied: pyparsing>=2.0.2 in c:\\users\\dineshraja\\anaconda3\\lib\\site-packages (from packaging->tensorflow) (2.4.7)\n"
     ]
    }
   ],
   "source": [
    "!pip install tensorflow"
   ]
  },
  {
   "cell_type": "code",
   "execution_count": 2,
   "metadata": {
    "id": "m7siVT5qUYGP"
   },
   "outputs": [],
   "source": [
    "# Import required lib\n",
    "\n",
    "from tensorflow.keras.preprocessing.image import ImageDataGenerator"
   ]
  },
  {
   "cell_type": "code",
   "execution_count": 3,
   "metadata": {
    "id": "otlxqYLHWPgs"
   },
   "outputs": [],
   "source": [
    "# Initializing augmentation for training variable\n",
    "\n",
    "train_datagen = ImageDataGenerator(rescale=1./255,\n",
    "                                   zoom_range=0.2,\n",
    "                                   horizontal_flip=True)"
   ]
  },
  {
   "cell_type": "code",
   "execution_count": 4,
   "metadata": {
    "id": "BrGmvE9SXpvU"
   },
   "outputs": [],
   "source": [
    "# Initializing augmentation for testing variable\n",
    "\n",
    "test_datagen = ImageDataGenerator(rescale=1./255,\n",
    "                                  zoom_range=0.2,\n",
    "                                  channel_shift_range=0.2,\n",
    "                                  horizontal_flip=True,\n",
    "                                  vertical_flip=True,\n",
    "                                  validation_split=0.3)"
   ]
  },
  {
   "cell_type": "code",
   "execution_count": 5,
   "metadata": {
    "colab": {
     "base_uri": "https://localhost:8080/"
    },
    "id": "ZEJbmZkdYD_W",
    "outputId": "917e51d6-50bf-4716-daa9-9591249fd08e"
   },
   "outputs": [
    {
     "name": "stdout",
     "output_type": "stream",
     "text": [
      "Found 4317 images belonging to 5 classes.\n"
     ]
    }
   ],
   "source": [
    "# Passing training data for training variable (augmentation)\n",
    "\n",
    "xtrain = train_datagen.flow_from_directory(r'D:\\IBM 7th sem project\\Assignments\\Flowers-Dataset\\flowers\\training',\n",
    "                                           target_size=(224,224),\n",
    "                                           class_mode='categorical',\n",
    "                                           batch_size=100)"
   ]
  },
  {
   "cell_type": "code",
   "execution_count": 6,
   "metadata": {
    "colab": {
     "base_uri": "https://localhost:8080/"
    },
    "id": "ErnKIG2UZOEV",
    "outputId": "63a47389-3142-446a-e0aa-ded10e13099d"
   },
   "outputs": [
    {
     "name": "stdout",
     "output_type": "stream",
     "text": [
      "Found 2223 images belonging to 5 classes.\n"
     ]
    }
   ],
   "source": [
    "# Passing testing data for testing variable (augmentation)\n",
    "\n",
    "xtest = test_datagen.flow_from_directory(r'D:\\IBM 7th sem project\\Assignments\\Flowers-Dataset\\flowers\\testing',\n",
    "                                           target_size=(224,224),\n",
    "                                           class_mode='categorical',\n",
    "                                           batch_size=100)"
   ]
  },
  {
   "cell_type": "markdown",
   "metadata": {
    "id": "ZrW-zmWOtMjb"
   },
   "source": [
    "# **3.  Create Model**"
   ]
  },
  {
   "cell_type": "markdown",
   "metadata": {
    "id": "aMaCs9XEaCLv"
   },
   "source": [
    "# CNN Model"
   ]
  },
  {
   "cell_type": "code",
   "execution_count": 7,
   "metadata": {
    "id": "j4e01RYsZ4Dn"
   },
   "outputs": [],
   "source": [
    "from tensorflow.keras.models import Sequential\n",
    "from tensorflow.keras.layers import Convolution2D,MaxPooling2D,Flatten,Dense"
   ]
  },
  {
   "cell_type": "markdown",
   "metadata": {
    "id": "4uucwXsMvWTJ"
   },
   "source": [
    "# **4. Add Layers (Convolution,MaxPooling,Flatten,Dense-(Hidden Layers),Output)**"
   ]
  },
  {
   "cell_type": "code",
   "execution_count": 8,
   "metadata": {
    "id": "9MfdAZhDaek-"
   },
   "outputs": [],
   "source": [
    "# CNN block \n",
    "\n",
    "model = Sequential() # Initializing sequential model \n",
    "model.add(Convolution2D(32,(3,3),activation='relu',input_shape=(224,224,3))) # Convolution layer \n",
    "model.add(MaxPooling2D(pool_size=(2, 2))) # Max pooling layer \n",
    "model.add(Flatten()) # Flatten layer \n",
    "model.add(Dense(300,activation='relu')) # Hidden layer 1\n",
    "model.add(Dense(150,activation='relu')) # Hidden layer 2\n",
    "model.add(Dense(5,activation='softmax')) # Output layer "
   ]
  },
  {
   "cell_type": "markdown",
   "metadata": {
    "id": "MORmhTgJvaXh"
   },
   "source": [
    "# **5. Compile The Model**"
   ]
  },
  {
   "cell_type": "code",
   "execution_count": 9,
   "metadata": {
    "id": "5bV0xenScmZ4"
   },
   "outputs": [],
   "source": [
    "# Compile model\n",
    "\n",
    "model.compile(optimizer='adam',loss='categorical_crossentropy',metrics=['accuracy'])"
   ]
  },
  {
   "cell_type": "markdown",
   "metadata": {
    "id": "Zs8Nl0UFs_XU"
   },
   "source": [
    "# **6. Fit The Model**"
   ]
  },
  {
   "cell_type": "code",
   "execution_count": 10,
   "metadata": {
    "colab": {
     "base_uri": "https://localhost:8080/"
    },
    "id": "-7BqBhJXc6S6",
    "outputId": "d34d88af-1871-4650-da20-f798b03fdef1"
   },
   "outputs": [
    {
     "name": "stderr",
     "output_type": "stream",
     "text": [
      "<ipython-input-10-576ef5e755f6>:3: UserWarning: `Model.fit_generator` is deprecated and will be removed in a future version. Please use `Model.fit`, which supports generators.\n",
      "  model.fit_generator(xtrain,\n"
     ]
    },
    {
     "name": "stdout",
     "output_type": "stream",
     "text": [
      "Epoch 1/25\n",
      "44/44 [==============================] - 117s 3s/step - loss: 5.6398 - accuracy: 0.3287 - val_loss: 1.3520 - val_accuracy: 0.4575\n",
      "Epoch 2/25\n",
      "44/44 [==============================] - 112s 3s/step - loss: 1.1739 - accuracy: 0.5219 - val_loss: 1.1479 - val_accuracy: 0.5488\n",
      "Epoch 3/25\n",
      "44/44 [==============================] - 118s 3s/step - loss: 1.0188 - accuracy: 0.6071 - val_loss: 1.0331 - val_accuracy: 0.5830\n",
      "Epoch 4/25\n",
      "44/44 [==============================] - 126s 3s/step - loss: 0.9498 - accuracy: 0.6359 - val_loss: 0.9704 - val_accuracy: 0.6239\n",
      "Epoch 5/25\n",
      "44/44 [==============================] - 131s 3s/step - loss: 0.8810 - accuracy: 0.6713 - val_loss: 1.0078 - val_accuracy: 0.6014\n",
      "Epoch 6/25\n",
      "44/44 [==============================] - 128s 3s/step - loss: 0.8393 - accuracy: 0.6903 - val_loss: 0.9089 - val_accuracy: 0.6622\n",
      "Epoch 7/25\n",
      "44/44 [==============================] - 129s 3s/step - loss: 0.7675 - accuracy: 0.7079 - val_loss: 0.8869 - val_accuracy: 0.6491\n",
      "Epoch 8/25\n",
      "44/44 [==============================] - 128s 3s/step - loss: 0.7596 - accuracy: 0.7114 - val_loss: 0.8658 - val_accuracy: 0.6608\n",
      "Epoch 9/25\n",
      "44/44 [==============================] - 150s 3s/step - loss: 0.6901 - accuracy: 0.7422 - val_loss: 0.8240 - val_accuracy: 0.6824\n",
      "Epoch 10/25\n",
      "44/44 [==============================] - 139s 3s/step - loss: 0.6763 - accuracy: 0.7533 - val_loss: 0.8795 - val_accuracy: 0.6820\n",
      "Epoch 11/25\n",
      "44/44 [==============================] - 148s 3s/step - loss: 0.6316 - accuracy: 0.7735 - val_loss: 0.8400 - val_accuracy: 0.6941\n",
      "Epoch 12/25\n",
      "44/44 [==============================] - 162s 4s/step - loss: 0.5978 - accuracy: 0.7820 - val_loss: 0.7907 - val_accuracy: 0.7121\n",
      "Epoch 13/25\n",
      "44/44 [==============================] - 153s 3s/step - loss: 0.5670 - accuracy: 0.7878 - val_loss: 0.8167 - val_accuracy: 0.7072\n",
      "Epoch 14/25\n",
      "44/44 [==============================] - 141s 3s/step - loss: 0.5349 - accuracy: 0.8059 - val_loss: 0.8180 - val_accuracy: 0.7130\n",
      "Epoch 15/25\n",
      "44/44 [==============================] - 149s 3s/step - loss: 0.5349 - accuracy: 0.8084 - val_loss: 0.7545 - val_accuracy: 0.7215\n",
      "Epoch 16/25\n",
      "44/44 [==============================] - 139s 3s/step - loss: 0.4779 - accuracy: 0.8290 - val_loss: 0.7599 - val_accuracy: 0.7260\n",
      "Epoch 17/25\n",
      "44/44 [==============================] - 160s 4s/step - loss: 0.4655 - accuracy: 0.8374 - val_loss: 0.7777 - val_accuracy: 0.7090\n",
      "Epoch 18/25\n",
      "44/44 [==============================] - 153s 3s/step - loss: 0.4528 - accuracy: 0.8358 - val_loss: 0.7656 - val_accuracy: 0.7422\n",
      "Epoch 19/25\n",
      "44/44 [==============================] - 163s 4s/step - loss: 0.4479 - accuracy: 0.8411 - val_loss: 0.8146 - val_accuracy: 0.7319\n",
      "Epoch 20/25\n",
      "44/44 [==============================] - 152s 3s/step - loss: 0.4188 - accuracy: 0.8562 - val_loss: 0.7321 - val_accuracy: 0.7476\n",
      "Epoch 21/25\n",
      "44/44 [==============================] - 192s 4s/step - loss: 0.3963 - accuracy: 0.8564 - val_loss: 0.7239 - val_accuracy: 0.7445\n",
      "Epoch 22/25\n",
      "44/44 [==============================] - 168s 4s/step - loss: 0.3738 - accuracy: 0.8624 - val_loss: 0.7413 - val_accuracy: 0.7481\n",
      "Epoch 23/25\n",
      "44/44 [==============================] - 152s 3s/step - loss: 0.3581 - accuracy: 0.8700 - val_loss: 0.8223 - val_accuracy: 0.7301\n",
      "Epoch 24/25\n",
      "44/44 [==============================] - 162s 4s/step - loss: 0.3573 - accuracy: 0.8714 - val_loss: 0.6871 - val_accuracy: 0.7773\n",
      "Epoch 25/25\n",
      "44/44 [==============================] - 152s 3s/step - loss: 0.3086 - accuracy: 0.8967 - val_loss: 0.7519 - val_accuracy: 0.7580\n"
     ]
    },
    {
     "data": {
      "text/plain": [
       "<keras.callbacks.History at 0x16329827ee0>"
      ]
     },
     "execution_count": 10,
     "metadata": {},
     "output_type": "execute_result"
    }
   ],
   "source": [
    "# Training model\n",
    "\n",
    "model.fit_generator(xtrain,\n",
    "                    steps_per_epoch=len(xtrain),\n",
    "                    epochs=25,\n",
    "                    validation_data=xtest,\n",
    "                    validation_steps=len(xtest))"
   ]
  },
  {
   "cell_type": "markdown",
   "metadata": {
    "id": "n95PeBHAtl-X"
   },
   "source": [
    "# **7. Save The Model**"
   ]
  },
  {
   "cell_type": "code",
   "execution_count": 11,
   "metadata": {
    "id": "9rCwu4JneThA"
   },
   "outputs": [],
   "source": [
    "# Save model\n",
    "\n",
    "model.save('flowers.h5')"
   ]
  },
  {
   "cell_type": "markdown",
   "metadata": {
    "id": "eNt4D2MjfwEO"
   },
   "source": [
    "# **8. Test The Model**"
   ]
  },
  {
   "cell_type": "code",
   "execution_count": 12,
   "metadata": {
    "colab": {
     "base_uri": "https://localhost:8080/"
    },
    "id": "aDE-2pdofYz3",
    "outputId": "374a3d79-6e8b-4e0f-a114-5c3c02cfa0d9"
   },
   "outputs": [
    {
     "name": "stdout",
     "output_type": "stream",
     "text": [
      "1/1 [==============================] - 0s 200ms/step\n",
      "4\n",
      "Tulip\n"
     ]
    }
   ],
   "source": [
    "from tensorflow.keras.preprocessing import image  # Importing req. lib\n",
    "import numpy as np\n",
    "\n",
    "# Testing 1\n",
    "\n",
    "img = image.load_img(r\"D:\\IBM 7th sem project\\Assignments\\tulip.jpg\",target_size=(224,224))\n",
    "x = image.img_to_array(img)\n",
    "x = np.expand_dims(x,axis=0)\n",
    "pred = np.argmax(model.predict(x))\n",
    "op = ['Daisy','Dandelion','Rose','Sunflower','Tulip']\n",
    "print(pred)\n",
    "print(op[pred])"
   ]
  },
  {
   "cell_type": "code",
   "execution_count": 13,
   "metadata": {
    "colab": {
     "base_uri": "https://localhost:8080/"
    },
    "id": "lDf71lP3gR4z",
    "outputId": "4b3b8995-5d94-47c1-c34b-9c5f98e92cbb"
   },
   "outputs": [
    {
     "data": {
      "text/plain": [
       "{'daisy': 0, 'dandelion': 1, 'rose': 2, 'sunflower': 3, 'tulip': 4}"
      ]
     },
     "execution_count": 13,
     "metadata": {},
     "output_type": "execute_result"
    }
   ],
   "source": [
    "xtrain.class_indices"
   ]
  },
  {
   "cell_type": "code",
   "execution_count": 15,
   "metadata": {
    "colab": {
     "base_uri": "https://localhost:8080/"
    },
    "id": "NW72Bt9SiPGc",
    "outputId": "28eb2faa-f9ca-4ed9-c2ef-94416c00991f"
   },
   "outputs": [
    {
     "name": "stdout",
     "output_type": "stream",
     "text": [
      "1/1 [==============================] - 0s 100ms/step\n",
      "3\n",
      "Sunflower\n"
     ]
    }
   ],
   "source": [
    "# Testing 2\n",
    "\n",
    "img = image.load_img(r\"D:\\IBM 7th sem project\\Assignments\\sunflower.jpg\",target_size=(224,224))\n",
    "x = image.img_to_array(img)\n",
    "x = np.expand_dims(x,axis=0)\n",
    "pred = np.argmax(model.predict(x))\n",
    "op = ['Daisy','Dandelion','Rose','Sunflower','Tulip']\n",
    "print(pred)\n",
    "print(op[pred])"
   ]
  },
  {
   "cell_type": "code",
   "execution_count": 16,
   "metadata": {
    "id": "Z-lCpIMxihfv",
    "outputId": "0f5a88db-4dc9-4fa0-a803-c891eb2ff00b"
   },
   "outputs": [
    {
     "name": "stdout",
     "output_type": "stream",
     "text": [
      "1/1 [==============================] - 0s 96ms/step\n",
      "0\n",
      "Daisy\n"
     ]
    }
   ],
   "source": [
    "# Testing 3\n",
    "\n",
    "img = image.load_img(r\"D:\\IBM 7th sem project\\Assignments\\daisy.jpg\",target_size=(224,224))\n",
    "x = image.img_to_array(img)\n",
    "x = np.expand_dims(x,axis=0)\n",
    "pred = np.argmax(model.predict(x))\n",
    "op = ['Daisy','Dandelion','Rose','Sunflower','Tulip']\n",
    "print(pred)\n",
    "print(op[pred])"
   ]
  },
  {
   "cell_type": "code",
   "execution_count": 18,
   "metadata": {},
   "outputs": [
    {
     "name": "stdout",
     "output_type": "stream",
     "text": [
      "1/1 [==============================] - 0s 114ms/step\n",
      "2\n",
      "Rose\n"
     ]
    }
   ],
   "source": [
    "# Testing 4\n",
    "\n",
    "img = image.load_img(r\"D:\\IBM 7th sem project\\Assignments\\rose.jpg\",target_size=(224,224))\n",
    "x = image.img_to_array(img)\n",
    "x = np.expand_dims(x,axis=0)\n",
    "pred = np.argmax(model.predict(x))\n",
    "op = ['Daisy','Dandelion','Rose','Sunflower','Tulip']\n",
    "print(pred)\n",
    "print(op[pred])"
   ]
  }
 ],
 "metadata": {
  "accelerator": "GPU",
  "colab": {
   "collapsed_sections": [],
   "provenance": []
  },
  "kernelspec": {
   "display_name": "Python 3",
   "language": "python",
   "name": "python3"
  },
  "language_info": {
   "codemirror_mode": {
    "name": "ipython",
    "version": 3
   },
   "file_extension": ".py",
   "mimetype": "text/x-python",
   "name": "python",
   "nbconvert_exporter": "python",
   "pygments_lexer": "ipython3",
   "version": "3.8.8"
  }
 },
 "nbformat": 4,
 "nbformat_minor": 1
}
